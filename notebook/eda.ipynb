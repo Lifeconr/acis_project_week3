{
 "cells": [
  {
   "cell_type": "code",
   "execution_count": null,
   "id": "248f505f",
   "metadata": {},
   "outputs": [],
   "source": [
    "# ACIS Insurance Analytics EDA Notebook\n",
    "\n",
    "# Import modular functions\n",
    "from src.eda_utils import main\n",
    "\n",
    "# Define data path\n",
    "data_path = '../data/insurance_data.csv'\n",
    "\n",
    "# Run EDA\n",
    "df = main(data_path)\n",
    "\n",
    "# Display sample data for manual inspection\n",
    "df.head()"
   ]
  }
 ],
 "metadata": {
  "language_info": {
   "name": "python"
  }
 },
 "nbformat": 4,
 "nbformat_minor": 5
}
